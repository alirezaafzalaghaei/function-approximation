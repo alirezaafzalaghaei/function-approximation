{
 "cells": [
  {
   "cell_type": "markdown",
   "id": "98843fe7",
   "metadata": {},
   "source": [
    "# Importing some modules"
   ]
  },
  {
   "cell_type": "code",
   "execution_count": 1,
   "id": "fa79f01c",
   "metadata": {},
   "outputs": [],
   "source": [
    "import os\n",
    "\n",
    "os.environ['TF_CPP_MIN_LOG_LEVEL'] = '3'\n",
    "\n",
    "import numpy as np\n",
    "import tensorflow as tf\n",
    "import matplotlib.pyplot as plt\n",
    "from tensorflow.keras.layers import *\n",
    "from tensorflow.keras import Sequential\n",
    "from tensorflow.keras import optimizers\n",
    "from sklearn.model_selection import train_test_split\n",
    "from tensorflow.keras.callbacks import EarlyStopping\n",
    "\n",
    "tf.keras.backend.set_floatx('float64')\n",
    "tf.random.set_seed(1)\n",
    "np.random.seed(1)"
   ]
  },
  {
   "cell_type": "markdown",
   "id": "4a446b7e",
   "metadata": {},
   "source": [
    "# Retrieving data"
   ]
  },
  {
   "cell_type": "code",
   "execution_count": 2,
   "id": "dbc3eddd",
   "metadata": {},
   "outputs": [
    {
     "name": "stdout",
     "output_type": "stream",
     "text": [
      "data shape: (500, 500) (500, 500) (2, 500, 500)\n"
     ]
    }
   ],
   "source": [
    "from example import x, t, y\n",
    "\n",
    "print('data shape:', x.shape, t.shape, y.shape)"
   ]
  },
  {
   "cell_type": "markdown",
   "id": "7652cda0",
   "metadata": {},
   "source": [
    "## Reshape data for Dense network"
   ]
  },
  {
   "cell_type": "code",
   "execution_count": 3,
   "id": "1f6b8e90",
   "metadata": {},
   "outputs": [
    {
     "data": {
      "text/plain": [
       "((250000, 2), (250000, 2))"
      ]
     },
     "execution_count": 3,
     "metadata": {},
     "output_type": "execute_result"
    }
   ],
   "source": [
    "X = np.reshape([x, t], (2, -1)).T\n",
    "Y = y.reshape(2, -1).T\n",
    "X.shape, Y.shape"
   ]
  },
  {
   "cell_type": "code",
   "execution_count": 4,
   "id": "3e5d3d8a",
   "metadata": {},
   "outputs": [
    {
     "data": {
      "text/plain": [
       "((125000, 2), (125000, 2))"
      ]
     },
     "execution_count": 4,
     "metadata": {},
     "output_type": "execute_result"
    }
   ],
   "source": [
    "# splitting the dataset into train and test parts\n",
    "\n",
    "X_train, X_test, y_train, y_test = train_test_split(X,\n",
    "                                                    Y,\n",
    "                                                    test_size=0.50,\n",
    "                                                    random_state=0)\n",
    "X_train.shape, y_test.shape"
   ]
  },
  {
   "cell_type": "markdown",
   "id": "80ae71f1",
   "metadata": {},
   "source": [
    "# Build the model"
   ]
  },
  {
   "cell_type": "code",
   "execution_count": 5,
   "id": "e13e277b",
   "metadata": {},
   "outputs": [],
   "source": [
    "model = Sequential()\n",
    "\n",
    "model.add(Dense(10))\n",
    "model.add(Activation('elu'))\n",
    "\n",
    "model.add(Dense(10))\n",
    "model.add(Activation('elu'))\n",
    "\n",
    "# final layer: a neuron with linear activation acts like a summation operator.\n",
    "model.add(Dense(2))\n",
    "\n",
    "opt = optimizers.Adam()\n",
    "loss = tf.keras.losses.MeanSquaredError(name='loss')\n",
    "\n",
    "model.compile(optimizer=opt, loss=loss, metrics=['mae'])"
   ]
  },
  {
   "cell_type": "code",
   "execution_count": 6,
   "id": "bf1057e7",
   "metadata": {},
   "outputs": [],
   "source": [
    "# training options\n",
    "\n",
    "# https://keras.io/api/callbacks/early_stopping/\n",
    "early_stopping = EarlyStopping(monitor='val_loss',\n",
    "                               patience=10,\n",
    "                               restore_best_weights=True)\n",
    "\n",
    "# fit options\n",
    "params = dict(epochs=100,\n",
    "              batch_size=128,\n",
    "              verbose=2,\n",
    "              validation_split=0.4,\n",
    "              callbacks=[early_stopping])"
   ]
  },
  {
   "cell_type": "code",
   "execution_count": 7,
   "id": "b579478d",
   "metadata": {
    "scrolled": false
   },
   "outputs": [
    {
     "name": "stdout",
     "output_type": "stream",
     "text": [
      "Epoch 1/100\n",
      "586/586 - 2s - loss: 398.4724 - mae: 6.6289 - val_loss: 241.4443 - val_mae: 6.2848\n",
      "Epoch 2/100\n",
      "586/586 - 1s - loss: 181.1296 - mae: 5.6070 - val_loss: 146.2353 - val_mae: 4.9783\n",
      "Epoch 3/100\n",
      "586/586 - 1s - loss: 113.4885 - mae: 4.4116 - val_loss: 94.4061 - val_mae: 3.7807\n",
      "Epoch 4/100\n",
      "586/586 - 1s - loss: 73.1066 - mae: 3.4701 - val_loss: 62.2864 - val_mae: 3.2086\n",
      "Epoch 5/100\n",
      "586/586 - 1s - loss: 49.4561 - mae: 2.9541 - val_loss: 43.8268 - val_mae: 2.7779\n",
      "Epoch 6/100\n",
      "586/586 - 1s - loss: 35.8512 - mae: 2.5867 - val_loss: 34.1626 - val_mae: 2.3910\n",
      "Epoch 7/100\n",
      "586/586 - 1s - loss: 27.5907 - mae: 2.2859 - val_loss: 26.1008 - val_mae: 2.1865\n",
      "Epoch 8/100\n",
      "586/586 - 1s - loss: 22.0426 - mae: 2.1061 - val_loss: 20.9428 - val_mae: 2.0509\n",
      "Epoch 9/100\n",
      "586/586 - 1s - loss: 17.8567 - mae: 1.9664 - val_loss: 17.1121 - val_mae: 1.9292\n",
      "Epoch 10/100\n",
      "586/586 - 1s - loss: 14.8442 - mae: 1.8873 - val_loss: 14.4550 - val_mae: 1.8886\n",
      "Epoch 11/100\n",
      "586/586 - 1s - loss: 12.5993 - mae: 1.8423 - val_loss: 12.4161 - val_mae: 1.8561\n",
      "Epoch 12/100\n",
      "586/586 - 1s - loss: 10.7788 - mae: 1.7987 - val_loss: 10.2966 - val_mae: 1.7720\n",
      "Epoch 13/100\n",
      "586/586 - 1s - loss: 9.1073 - mae: 1.7278 - val_loss: 8.5667 - val_mae: 1.6652\n",
      "Epoch 14/100\n",
      "586/586 - 1s - loss: 7.6509 - mae: 1.6249 - val_loss: 7.2480 - val_mae: 1.5682\n",
      "Epoch 15/100\n",
      "586/586 - 1s - loss: 6.6838 - mae: 1.5638 - val_loss: 6.4764 - val_mae: 1.5455\n",
      "Epoch 16/100\n",
      "586/586 - 1s - loss: 6.0243 - mae: 1.5199 - val_loss: 5.7950 - val_mae: 1.4866\n",
      "Epoch 17/100\n",
      "586/586 - 1s - loss: 5.5089 - mae: 1.4774 - val_loss: 5.2888 - val_mae: 1.4385\n",
      "Epoch 18/100\n",
      "586/586 - 1s - loss: 5.0388 - mae: 1.4326 - val_loss: 5.5976 - val_mae: 1.4608\n",
      "Epoch 19/100\n",
      "586/586 - 1s - loss: 4.6425 - mae: 1.3871 - val_loss: 4.4119 - val_mae: 1.3414\n",
      "Epoch 20/100\n",
      "586/586 - 1s - loss: 3.9653 - mae: 1.2789 - val_loss: 3.5079 - val_mae: 1.1807\n",
      "Epoch 21/100\n",
      "586/586 - 1s - loss: 3.2118 - mae: 1.1349 - val_loss: 3.0185 - val_mae: 1.0954\n",
      "Epoch 22/100\n",
      "586/586 - 1s - loss: 2.8231 - mae: 1.0701 - val_loss: 2.7355 - val_mae: 1.0336\n",
      "Epoch 23/100\n",
      "586/586 - 1s - loss: 2.5972 - mae: 1.0304 - val_loss: 2.6161 - val_mae: 1.0273\n",
      "Epoch 24/100\n",
      "586/586 - 1s - loss: 2.3809 - mae: 0.9935 - val_loss: 2.3112 - val_mae: 0.9818\n",
      "Epoch 25/100\n",
      "586/586 - 1s - loss: 2.2229 - mae: 0.9652 - val_loss: 2.1690 - val_mae: 0.9401\n",
      "Epoch 26/100\n",
      "586/586 - 1s - loss: 2.1200 - mae: 0.9406 - val_loss: 2.0673 - val_mae: 0.9167\n",
      "Epoch 27/100\n",
      "586/586 - 1s - loss: 2.0110 - mae: 0.9162 - val_loss: 2.0468 - val_mae: 0.8966\n",
      "Epoch 28/100\n",
      "586/586 - 1s - loss: 1.8749 - mae: 0.8893 - val_loss: 1.8788 - val_mae: 0.8787\n",
      "Epoch 29/100\n",
      "586/586 - 1s - loss: 1.7786 - mae: 0.8649 - val_loss: 1.7870 - val_mae: 0.8437\n",
      "Epoch 30/100\n",
      "586/586 - 1s - loss: 1.6926 - mae: 0.8408 - val_loss: 1.6428 - val_mae: 0.8269\n",
      "Epoch 31/100\n",
      "586/586 - 1s - loss: 1.6094 - mae: 0.8163 - val_loss: 1.9015 - val_mae: 0.8214\n",
      "Epoch 32/100\n",
      "586/586 - 1s - loss: 1.5623 - mae: 0.7977 - val_loss: 1.5057 - val_mae: 0.7894\n",
      "Epoch 33/100\n",
      "586/586 - 1s - loss: 1.4591 - mae: 0.7728 - val_loss: 1.4094 - val_mae: 0.7599\n",
      "Epoch 34/100\n",
      "586/586 - 1s - loss: 1.4163 - mae: 0.7508 - val_loss: 1.4278 - val_mae: 0.7444\n",
      "Epoch 35/100\n",
      "586/586 - 1s - loss: 1.3227 - mae: 0.7285 - val_loss: 1.2662 - val_mae: 0.7162\n",
      "Epoch 36/100\n",
      "586/586 - 1s - loss: 1.2699 - mae: 0.7102 - val_loss: 1.3554 - val_mae: 0.7163\n",
      "Epoch 37/100\n",
      "586/586 - 1s - loss: 1.2067 - mae: 0.6918 - val_loss: 1.2111 - val_mae: 0.6827\n",
      "Epoch 38/100\n",
      "586/586 - 1s - loss: 1.1456 - mae: 0.6759 - val_loss: 1.1062 - val_mae: 0.6673\n",
      "Epoch 39/100\n",
      "586/586 - 1s - loss: 1.0923 - mae: 0.6612 - val_loss: 1.0569 - val_mae: 0.6488\n",
      "Epoch 40/100\n",
      "586/586 - 1s - loss: 1.0367 - mae: 0.6464 - val_loss: 1.0894 - val_mae: 0.6467\n",
      "Epoch 41/100\n",
      "586/586 - 1s - loss: 0.9996 - mae: 0.6309 - val_loss: 1.0448 - val_mae: 0.6366\n",
      "Epoch 42/100\n",
      "586/586 - 1s - loss: 0.9713 - mae: 0.6194 - val_loss: 0.9372 - val_mae: 0.6133\n",
      "Epoch 43/100\n",
      "586/586 - 1s - loss: 0.9390 - mae: 0.6098 - val_loss: 0.8968 - val_mae: 0.5999\n",
      "Epoch 44/100\n",
      "586/586 - 1s - loss: 0.9097 - mae: 0.6003 - val_loss: 0.8953 - val_mae: 0.5918\n",
      "Epoch 45/100\n",
      "586/586 - 1s - loss: 0.8975 - mae: 0.5936 - val_loss: 0.8878 - val_mae: 0.5930\n",
      "Epoch 46/100\n",
      "586/586 - 1s - loss: 0.8646 - mae: 0.5857 - val_loss: 0.8378 - val_mae: 0.5817\n",
      "Epoch 47/100\n",
      "586/586 - 1s - loss: 0.8534 - mae: 0.5808 - val_loss: 0.8969 - val_mae: 0.5891\n",
      "Epoch 48/100\n",
      "586/586 - 1s - loss: 0.8384 - mae: 0.5751 - val_loss: 0.8105 - val_mae: 0.5701\n",
      "Epoch 49/100\n",
      "586/586 - 1s - loss: 0.8272 - mae: 0.5708 - val_loss: 0.7977 - val_mae: 0.5627\n",
      "Epoch 50/100\n",
      "586/586 - 1s - loss: 0.8170 - mae: 0.5669 - val_loss: 0.8278 - val_mae: 0.5593\n",
      "Epoch 51/100\n",
      "586/586 - 1s - loss: 0.7983 - mae: 0.5619 - val_loss: 0.8207 - val_mae: 0.5669\n",
      "Epoch 52/100\n",
      "586/586 - 1s - loss: 0.8025 - mae: 0.5594 - val_loss: 0.7651 - val_mae: 0.5517\n",
      "Epoch 53/100\n",
      "586/586 - 1s - loss: 0.7945 - mae: 0.5551 - val_loss: 0.7745 - val_mae: 0.5501\n",
      "Epoch 54/100\n",
      "586/586 - 1s - loss: 0.7885 - mae: 0.5526 - val_loss: 0.7913 - val_mae: 0.5509\n",
      "Epoch 55/100\n",
      "586/586 - 1s - loss: 0.7901 - mae: 0.5493 - val_loss: 0.7887 - val_mae: 0.5434\n",
      "Epoch 56/100\n",
      "586/586 - 1s - loss: 0.7801 - mae: 0.5467 - val_loss: 0.7981 - val_mae: 0.5514\n",
      "Epoch 57/100\n",
      "586/586 - 1s - loss: 0.7771 - mae: 0.5428 - val_loss: 0.8088 - val_mae: 0.5414\n",
      "Epoch 58/100\n",
      "586/586 - 1s - loss: 0.7611 - mae: 0.5392 - val_loss: 0.7305 - val_mae: 0.5346\n",
      "Epoch 59/100\n",
      "586/586 - 1s - loss: 0.7628 - mae: 0.5381 - val_loss: 0.7221 - val_mae: 0.5304\n",
      "Epoch 60/100\n",
      "586/586 - 1s - loss: 0.7470 - mae: 0.5334 - val_loss: 0.7651 - val_mae: 0.5412\n",
      "Epoch 61/100\n",
      "586/586 - 1s - loss: 0.7384 - mae: 0.5300 - val_loss: 0.7143 - val_mae: 0.5242\n",
      "Epoch 62/100\n",
      "586/586 - 1s - loss: 0.7350 - mae: 0.5278 - val_loss: 0.7473 - val_mae: 0.5349\n",
      "Epoch 63/100\n",
      "586/586 - 1s - loss: 0.7467 - mae: 0.5267 - val_loss: 0.7005 - val_mae: 0.5192\n",
      "Epoch 64/100\n",
      "586/586 - 1s - loss: 0.7289 - mae: 0.5229 - val_loss: 0.7084 - val_mae: 0.5192\n",
      "Epoch 65/100\n",
      "586/586 - 1s - loss: 0.7392 - mae: 0.5219 - val_loss: 0.8904 - val_mae: 0.5256\n",
      "Epoch 66/100\n",
      "586/586 - 1s - loss: 0.7144 - mae: 0.5175 - val_loss: 0.7479 - val_mae: 0.5145\n",
      "Epoch 67/100\n",
      "586/586 - 1s - loss: 0.7150 - mae: 0.5152 - val_loss: 0.7147 - val_mae: 0.5126\n",
      "Epoch 68/100\n",
      "586/586 - 1s - loss: 0.7321 - mae: 0.5147 - val_loss: 0.8433 - val_mae: 0.5280\n",
      "Epoch 69/100\n",
      "586/586 - 1s - loss: 0.7079 - mae: 0.5109 - val_loss: 0.6898 - val_mae: 0.5121\n",
      "Epoch 70/100\n",
      "586/586 - 1s - loss: 0.7080 - mae: 0.5088 - val_loss: 0.8463 - val_mae: 0.5115\n",
      "Epoch 71/100\n",
      "586/586 - 1s - loss: 0.7125 - mae: 0.5072 - val_loss: 0.7387 - val_mae: 0.5081\n",
      "Epoch 72/100\n",
      "586/586 - 1s - loss: 0.7086 - mae: 0.5045 - val_loss: 0.6784 - val_mae: 0.5030\n",
      "Epoch 73/100\n",
      "586/586 - 1s - loss: 0.7081 - mae: 0.5029 - val_loss: 0.6702 - val_mae: 0.4975\n",
      "Epoch 74/100\n",
      "586/586 - 1s - loss: 0.7029 - mae: 0.5005 - val_loss: 0.6724 - val_mae: 0.4953\n",
      "Epoch 75/100\n",
      "586/586 - 1s - loss: 0.6854 - mae: 0.4966 - val_loss: 0.6719 - val_mae: 0.4917\n",
      "Epoch 76/100\n",
      "586/586 - 1s - loss: 0.6922 - mae: 0.4966 - val_loss: 0.6675 - val_mae: 0.4935\n",
      "Epoch 77/100\n",
      "586/586 - 1s - loss: 0.6945 - mae: 0.4949 - val_loss: 0.6654 - val_mae: 0.4856\n",
      "Epoch 78/100\n",
      "586/586 - 1s - loss: 0.6892 - mae: 0.4925 - val_loss: 0.7441 - val_mae: 0.4909\n",
      "Epoch 79/100\n",
      "586/586 - 1s - loss: 0.6867 - mae: 0.4896 - val_loss: 0.7485 - val_mae: 0.4932\n",
      "Epoch 80/100\n",
      "586/586 - 1s - loss: 0.6881 - mae: 0.4884 - val_loss: 0.7208 - val_mae: 0.4840\n",
      "Epoch 81/100\n",
      "586/586 - 1s - loss: 0.6741 - mae: 0.4850 - val_loss: 0.7296 - val_mae: 0.4873\n",
      "Epoch 82/100\n",
      "586/586 - 1s - loss: 0.6818 - mae: 0.4844 - val_loss: 0.6820 - val_mae: 0.4810\n",
      "Epoch 83/100\n",
      "586/586 - 1s - loss: 0.6906 - mae: 0.4833 - val_loss: 0.6794 - val_mae: 0.4860\n",
      "Epoch 84/100\n",
      "586/586 - 1s - loss: 0.6714 - mae: 0.4797 - val_loss: 0.6599 - val_mae: 0.4813\n",
      "Epoch 85/100\n",
      "586/586 - 1s - loss: 0.6886 - mae: 0.4805 - val_loss: 0.6368 - val_mae: 0.4729\n",
      "Epoch 86/100\n",
      "586/586 - 1s - loss: 0.6720 - mae: 0.4768 - val_loss: 0.6617 - val_mae: 0.4763\n",
      "Epoch 87/100\n",
      "586/586 - 1s - loss: 0.6639 - mae: 0.4743 - val_loss: 0.6319 - val_mae: 0.4659\n",
      "Epoch 88/100\n",
      "586/586 - 1s - loss: 0.6637 - mae: 0.4737 - val_loss: 0.6686 - val_mae: 0.4649\n",
      "Epoch 89/100\n",
      "586/586 - 1s - loss: 0.6678 - mae: 0.4718 - val_loss: 0.6436 - val_mae: 0.4689\n"
     ]
    },
    {
     "name": "stdout",
     "output_type": "stream",
     "text": [
      "Epoch 90/100\n",
      "586/586 - 1s - loss: 0.6817 - mae: 0.4717 - val_loss: 0.6322 - val_mae: 0.4667\n",
      "Epoch 91/100\n",
      "586/586 - 1s - loss: 0.6476 - mae: 0.4667 - val_loss: 0.6425 - val_mae: 0.4646\n",
      "Epoch 92/100\n",
      "586/586 - 1s - loss: 0.6672 - mae: 0.4672 - val_loss: 0.6333 - val_mae: 0.4630\n",
      "Epoch 93/100\n",
      "586/586 - 1s - loss: 0.6577 - mae: 0.4652 - val_loss: 0.6217 - val_mae: 0.4606\n",
      "Epoch 94/100\n",
      "586/586 - 1s - loss: 0.6467 - mae: 0.4631 - val_loss: 0.6323 - val_mae: 0.4613\n",
      "Epoch 95/100\n",
      "586/586 - 1s - loss: 0.6519 - mae: 0.4624 - val_loss: 0.6312 - val_mae: 0.4550\n",
      "Epoch 96/100\n",
      "586/586 - 1s - loss: 0.6511 - mae: 0.4624 - val_loss: 0.7256 - val_mae: 0.4589\n",
      "Epoch 97/100\n",
      "586/586 - 1s - loss: 0.6378 - mae: 0.4591 - val_loss: 0.6238 - val_mae: 0.4573\n",
      "Epoch 98/100\n",
      "586/586 - 1s - loss: 0.6415 - mae: 0.4574 - val_loss: 0.8306 - val_mae: 0.4652\n",
      "Epoch 99/100\n",
      "586/586 - 1s - loss: 0.6452 - mae: 0.4574 - val_loss: 0.6936 - val_mae: 0.4539\n",
      "Epoch 100/100\n",
      "586/586 - 1s - loss: 0.6433 - mae: 0.4560 - val_loss: 0.6353 - val_mae: 0.4538\n"
     ]
    }
   ],
   "source": [
    "# train the model\n",
    "\n",
    "history = model.fit(X_train, y_train, **params)"
   ]
  },
  {
   "cell_type": "markdown",
   "id": "24330aad",
   "metadata": {},
   "source": [
    "# Model accuracy with MAE"
   ]
  },
  {
   "cell_type": "code",
   "execution_count": 8,
   "id": "c04c2ea6",
   "metadata": {},
   "outputs": [
    {
     "name": "stdout",
     "output_type": "stream",
     "text": [
      "MAE for training set: 4.54e-01\n",
      "MAE for test     set: 4.54e-01\n"
     ]
    }
   ],
   "source": [
    "p = model.predict(X_test)\n",
    "mae_test = tf.keras.losses.mean_absolute_error(y_test, p).numpy().mean()\n",
    "\n",
    "p = model.predict(X_train)\n",
    "mae_train = tf.keras.losses.mean_absolute_error(y_train, p).numpy().mean()\n",
    "\n",
    "print('MAE for training set: %.2e' % mae_train)\n",
    "print('MAE for test     set: %.2e' % mae_test)"
   ]
  },
  {
   "cell_type": "code",
   "execution_count": 9,
   "id": "77a6cffb",
   "metadata": {
    "scrolled": false
   },
   "outputs": [
    {
     "data": {
      "text/plain": [
       "<matplotlib.legend.Legend at 0x7fadb8ee1a60>"
      ]
     },
     "execution_count": 9,
     "metadata": {},
     "output_type": "execute_result"
    },
    {
     "data": {
      "image/png": "[encoded data removed]",
      "text/plain": [
       "<Figure size 1152x432 with 2 Axes>"
      ]
     },
     "metadata": {
      "needs_background": "light"
     },
     "output_type": "display_data"
    }
   ],
   "source": [
    "fig, (ax1, ax2) = plt.subplots(1, 2, figsize=(16, 6))\n",
    "\n",
    "loss = history.history['loss']\n",
    "val_loss = history.history['val_loss']\n",
    "\n",
    "mae = history.history['mae']\n",
    "val_mae = history.history['val_mae']\n",
    "\n",
    "ax1.plot((loss), label='loss')\n",
    "ax1.plot((val_loss), label='val_loss')\n",
    "ax1.legend()\n",
    "\n",
    "ax2.plot((mae), label='mae')\n",
    "ax2.plot((val_mae), label='val_mae')\n",
    "ax2.legend()"
   ]
  }
 ],
 "metadata": {
  "kernelspec": {
   "display_name": "Python 3 (ipykernel)",
   "language": "python",
   "name": "python3"
  },
  "language_info": {
   "codemirror_mode": {
    "name": "ipython",
    "version": 3
   },
   "file_extension": ".py",
   "mimetype": "text/x-python",
   "name": "python",
   "nbconvert_exporter": "python",
   "pygments_lexer": "ipython3",
   "version": "3.9.6"
  }
 },
 "nbformat": 4,
 "nbformat_minor": 5
}
